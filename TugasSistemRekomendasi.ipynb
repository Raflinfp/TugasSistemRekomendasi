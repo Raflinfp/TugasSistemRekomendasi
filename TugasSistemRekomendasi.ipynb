{
  "nbformat": 4,
  "nbformat_minor": 0,
  "metadata": {
    "colab": {
      "provenance": []
    },
    "kernelspec": {
      "name": "python3",
      "display_name": "Python 3"
    },
    "language_info": {
      "name": "python"
    }
  },
  "cells": [
    {
      "cell_type": "code",
      "execution_count": 5,
      "metadata": {
        "colab": {
          "base_uri": "https://localhost:8080/",
          "height": 302
        },
        "id": "zMbVx9rXW_QB",
        "outputId": "25156467-57ec-4f01-8145-c23d77ed3066"
      },
      "outputs": [
        {
          "output_type": "execute_result",
          "data": {
            "text/plain": [
              "                                 Name  \\\n",
              "0           Rafli Nur Fadhillah Panca   \n",
              "1       PT Nurul Fikri Cipta Inovasi    \n",
              "2  PT Hacktivate Teknologi Indonesia    \n",
              "3             PT Ruang Raya Indonesia   \n",
              "4           PT Mitra Semeru Indonesia   \n",
              "\n",
              "                                             Address  \\\n",
              "0            Gisik Sari RT4 RW 4 Semarang, Indonesia   \n",
              "1  Jl. Situ Indah No.116 RT. 006 RW. 010 Kel. Tug...   \n",
              "2  Gedung Aquarius Lt. 1&2, Jl. Sultan Iskandar M...   \n",
              "3  Jl. Dr. Saharjo No.161, Manggarai Selatan, Teb...   \n",
              "4  Jl. Mampang Prapatan Raya no 84A, Tegal Parang...   \n",
              "\n",
              "                                         Description  \n",
              "0  Algoritma dan pemrograman, bahasa pemrograman,...  \n",
              "1  Akademi Digital Marketing. CRM. Web Design unt...  \n",
              "2  Android Java for Mobile Developer. User Interf...  \n",
              "3  Frontend Engineering. Final Project. Programmi...  \n",
              "4  Perancangan Produk/Jasa. Komunikasi. Leadershi...  "
            ],
            "text/html": [
              "\n",
              "  <div id=\"df-1524bfad-b6c6-47d2-8c46-99a629d84662\">\n",
              "    <div class=\"colab-df-container\">\n",
              "      <div>\n",
              "<style scoped>\n",
              "    .dataframe tbody tr th:only-of-type {\n",
              "        vertical-align: middle;\n",
              "    }\n",
              "\n",
              "    .dataframe tbody tr th {\n",
              "        vertical-align: top;\n",
              "    }\n",
              "\n",
              "    .dataframe thead th {\n",
              "        text-align: right;\n",
              "    }\n",
              "</style>\n",
              "<table border=\"1\" class=\"dataframe\">\n",
              "  <thead>\n",
              "    <tr style=\"text-align: right;\">\n",
              "      <th></th>\n",
              "      <th>Name</th>\n",
              "      <th>Address</th>\n",
              "      <th>Description</th>\n",
              "    </tr>\n",
              "  </thead>\n",
              "  <tbody>\n",
              "    <tr>\n",
              "      <th>0</th>\n",
              "      <td>Rafli Nur Fadhillah Panca</td>\n",
              "      <td>Gisik Sari RT4 RW 4 Semarang, Indonesia</td>\n",
              "      <td>Algoritma dan pemrograman, bahasa pemrograman,...</td>\n",
              "    </tr>\n",
              "    <tr>\n",
              "      <th>1</th>\n",
              "      <td>PT Nurul Fikri Cipta Inovasi</td>\n",
              "      <td>Jl. Situ Indah No.116 RT. 006 RW. 010 Kel. Tug...</td>\n",
              "      <td>Akademi Digital Marketing. CRM. Web Design unt...</td>\n",
              "    </tr>\n",
              "    <tr>\n",
              "      <th>2</th>\n",
              "      <td>PT Hacktivate Teknologi Indonesia</td>\n",
              "      <td>Gedung Aquarius Lt. 1&amp;2, Jl. Sultan Iskandar M...</td>\n",
              "      <td>Android Java for Mobile Developer. User Interf...</td>\n",
              "    </tr>\n",
              "    <tr>\n",
              "      <th>3</th>\n",
              "      <td>PT Ruang Raya Indonesia</td>\n",
              "      <td>Jl. Dr. Saharjo No.161, Manggarai Selatan, Teb...</td>\n",
              "      <td>Frontend Engineering. Final Project. Programmi...</td>\n",
              "    </tr>\n",
              "    <tr>\n",
              "      <th>4</th>\n",
              "      <td>PT Mitra Semeru Indonesia</td>\n",
              "      <td>Jl. Mampang Prapatan Raya no 84A, Tegal Parang...</td>\n",
              "      <td>Perancangan Produk/Jasa. Komunikasi. Leadershi...</td>\n",
              "    </tr>\n",
              "  </tbody>\n",
              "</table>\n",
              "</div>\n",
              "      <button class=\"colab-df-convert\" onclick=\"convertToInteractive('df-1524bfad-b6c6-47d2-8c46-99a629d84662')\"\n",
              "              title=\"Convert this dataframe to an interactive table.\"\n",
              "              style=\"display:none;\">\n",
              "        \n",
              "  <svg xmlns=\"http://www.w3.org/2000/svg\" height=\"24px\"viewBox=\"0 0 24 24\"\n",
              "       width=\"24px\">\n",
              "    <path d=\"M0 0h24v24H0V0z\" fill=\"none\"/>\n",
              "    <path d=\"M18.56 5.44l.94 2.06.94-2.06 2.06-.94-2.06-.94-.94-2.06-.94 2.06-2.06.94zm-11 1L8.5 8.5l.94-2.06 2.06-.94-2.06-.94L8.5 2.5l-.94 2.06-2.06.94zm10 10l.94 2.06.94-2.06 2.06-.94-2.06-.94-.94-2.06-.94 2.06-2.06.94z\"/><path d=\"M17.41 7.96l-1.37-1.37c-.4-.4-.92-.59-1.43-.59-.52 0-1.04.2-1.43.59L10.3 9.45l-7.72 7.72c-.78.78-.78 2.05 0 2.83L4 21.41c.39.39.9.59 1.41.59.51 0 1.02-.2 1.41-.59l7.78-7.78 2.81-2.81c.8-.78.8-2.07 0-2.86zM5.41 20L4 18.59l7.72-7.72 1.47 1.35L5.41 20z\"/>\n",
              "  </svg>\n",
              "      </button>\n",
              "      \n",
              "  <style>\n",
              "    .colab-df-container {\n",
              "      display:flex;\n",
              "      flex-wrap:wrap;\n",
              "      gap: 12px;\n",
              "    }\n",
              "\n",
              "    .colab-df-convert {\n",
              "      background-color: #E8F0FE;\n",
              "      border: none;\n",
              "      border-radius: 50%;\n",
              "      cursor: pointer;\n",
              "      display: none;\n",
              "      fill: #1967D2;\n",
              "      height: 32px;\n",
              "      padding: 0 0 0 0;\n",
              "      width: 32px;\n",
              "    }\n",
              "\n",
              "    .colab-df-convert:hover {\n",
              "      background-color: #E2EBFA;\n",
              "      box-shadow: 0px 1px 2px rgba(60, 64, 67, 0.3), 0px 1px 3px 1px rgba(60, 64, 67, 0.15);\n",
              "      fill: #174EA6;\n",
              "    }\n",
              "\n",
              "    [theme=dark] .colab-df-convert {\n",
              "      background-color: #3B4455;\n",
              "      fill: #D2E3FC;\n",
              "    }\n",
              "\n",
              "    [theme=dark] .colab-df-convert:hover {\n",
              "      background-color: #434B5C;\n",
              "      box-shadow: 0px 1px 3px 1px rgba(0, 0, 0, 0.15);\n",
              "      filter: drop-shadow(0px 1px 2px rgba(0, 0, 0, 0.3));\n",
              "      fill: #FFFFFF;\n",
              "    }\n",
              "  </style>\n",
              "\n",
              "      <script>\n",
              "        const buttonEl =\n",
              "          document.querySelector('#df-1524bfad-b6c6-47d2-8c46-99a629d84662 button.colab-df-convert');\n",
              "        buttonEl.style.display =\n",
              "          google.colab.kernel.accessAllowed ? 'block' : 'none';\n",
              "\n",
              "        async function convertToInteractive(key) {\n",
              "          const element = document.querySelector('#df-1524bfad-b6c6-47d2-8c46-99a629d84662');\n",
              "          const dataTable =\n",
              "            await google.colab.kernel.invokeFunction('convertToInteractive',\n",
              "                                                     [key], {});\n",
              "          if (!dataTable) return;\n",
              "\n",
              "          const docLinkHtml = 'Like what you see? Visit the ' +\n",
              "            '<a target=\"_blank\" href=https://colab.research.google.com/notebooks/data_table.ipynb>data table notebook</a>'\n",
              "            + ' to learn more about interactive tables.';\n",
              "          element.innerHTML = '';\n",
              "          dataTable['output_type'] = 'display_data';\n",
              "          await google.colab.output.renderOutput(dataTable, element);\n",
              "          const docLink = document.createElement('div');\n",
              "          docLink.innerHTML = docLinkHtml;\n",
              "          element.appendChild(docLink);\n",
              "        }\n",
              "      </script>\n",
              "    </div>\n",
              "  </div>\n",
              "  "
            ]
          },
          "metadata": {},
          "execution_count": 5
        }
      ],
      "source": [
        "import pandas as pd\n",
        "import numpy as np\n",
        "from sklearn.metrics.pairwise import cosine_similarity\n",
        "from sklearn.feature_extraction.text import TfidfVectorizer\n",
        "from nltk.corpus import stopwords\n",
        "import re\n",
        "import random\n",
        "\n",
        "df = pd.read_csv(\"https://raw.githubusercontent.com/Raflinfp/TugasSistemRekomendasi/main/tgssistemrekomendasi.csv\")\n",
        "df.head()"
      ]
    },
    {
      "cell_type": "code",
      "source": [
        "df.describe()"
      ],
      "metadata": {
        "colab": {
          "base_uri": "https://localhost:8080/",
          "height": 175
        },
        "id": "N2BFAc9wkEFV",
        "outputId": "2ef1e06a-3a48-4417-bc8d-75ff2bde9325"
      },
      "execution_count": 6,
      "outputs": [
        {
          "output_type": "execute_result",
          "data": {
            "text/plain": [
              "                             Name                                  Address  \\\n",
              "count                          11                                       11   \n",
              "unique                         11                                       11   \n",
              "top     Rafli Nur Fadhillah Panca  Gisik Sari RT4 RW 4 Semarang, Indonesia   \n",
              "freq                            1                                        1   \n",
              "\n",
              "                                              Description  \n",
              "count                                                  11  \n",
              "unique                                                 11  \n",
              "top     Algoritma dan pemrograman, bahasa pemrograman,...  \n",
              "freq                                                    1  "
            ],
            "text/html": [
              "\n",
              "  <div id=\"df-77219e50-d305-4004-88a4-6b5df4f05934\">\n",
              "    <div class=\"colab-df-container\">\n",
              "      <div>\n",
              "<style scoped>\n",
              "    .dataframe tbody tr th:only-of-type {\n",
              "        vertical-align: middle;\n",
              "    }\n",
              "\n",
              "    .dataframe tbody tr th {\n",
              "        vertical-align: top;\n",
              "    }\n",
              "\n",
              "    .dataframe thead th {\n",
              "        text-align: right;\n",
              "    }\n",
              "</style>\n",
              "<table border=\"1\" class=\"dataframe\">\n",
              "  <thead>\n",
              "    <tr style=\"text-align: right;\">\n",
              "      <th></th>\n",
              "      <th>Name</th>\n",
              "      <th>Address</th>\n",
              "      <th>Description</th>\n",
              "    </tr>\n",
              "  </thead>\n",
              "  <tbody>\n",
              "    <tr>\n",
              "      <th>count</th>\n",
              "      <td>11</td>\n",
              "      <td>11</td>\n",
              "      <td>11</td>\n",
              "    </tr>\n",
              "    <tr>\n",
              "      <th>unique</th>\n",
              "      <td>11</td>\n",
              "      <td>11</td>\n",
              "      <td>11</td>\n",
              "    </tr>\n",
              "    <tr>\n",
              "      <th>top</th>\n",
              "      <td>Rafli Nur Fadhillah Panca</td>\n",
              "      <td>Gisik Sari RT4 RW 4 Semarang, Indonesia</td>\n",
              "      <td>Algoritma dan pemrograman, bahasa pemrograman,...</td>\n",
              "    </tr>\n",
              "    <tr>\n",
              "      <th>freq</th>\n",
              "      <td>1</td>\n",
              "      <td>1</td>\n",
              "      <td>1</td>\n",
              "    </tr>\n",
              "  </tbody>\n",
              "</table>\n",
              "</div>\n",
              "      <button class=\"colab-df-convert\" onclick=\"convertToInteractive('df-77219e50-d305-4004-88a4-6b5df4f05934')\"\n",
              "              title=\"Convert this dataframe to an interactive table.\"\n",
              "              style=\"display:none;\">\n",
              "        \n",
              "  <svg xmlns=\"http://www.w3.org/2000/svg\" height=\"24px\"viewBox=\"0 0 24 24\"\n",
              "       width=\"24px\">\n",
              "    <path d=\"M0 0h24v24H0V0z\" fill=\"none\"/>\n",
              "    <path d=\"M18.56 5.44l.94 2.06.94-2.06 2.06-.94-2.06-.94-.94-2.06-.94 2.06-2.06.94zm-11 1L8.5 8.5l.94-2.06 2.06-.94-2.06-.94L8.5 2.5l-.94 2.06-2.06.94zm10 10l.94 2.06.94-2.06 2.06-.94-2.06-.94-.94-2.06-.94 2.06-2.06.94z\"/><path d=\"M17.41 7.96l-1.37-1.37c-.4-.4-.92-.59-1.43-.59-.52 0-1.04.2-1.43.59L10.3 9.45l-7.72 7.72c-.78.78-.78 2.05 0 2.83L4 21.41c.39.39.9.59 1.41.59.51 0 1.02-.2 1.41-.59l7.78-7.78 2.81-2.81c.8-.78.8-2.07 0-2.86zM5.41 20L4 18.59l7.72-7.72 1.47 1.35L5.41 20z\"/>\n",
              "  </svg>\n",
              "      </button>\n",
              "      \n",
              "  <style>\n",
              "    .colab-df-container {\n",
              "      display:flex;\n",
              "      flex-wrap:wrap;\n",
              "      gap: 12px;\n",
              "    }\n",
              "\n",
              "    .colab-df-convert {\n",
              "      background-color: #E8F0FE;\n",
              "      border: none;\n",
              "      border-radius: 50%;\n",
              "      cursor: pointer;\n",
              "      display: none;\n",
              "      fill: #1967D2;\n",
              "      height: 32px;\n",
              "      padding: 0 0 0 0;\n",
              "      width: 32px;\n",
              "    }\n",
              "\n",
              "    .colab-df-convert:hover {\n",
              "      background-color: #E2EBFA;\n",
              "      box-shadow: 0px 1px 2px rgba(60, 64, 67, 0.3), 0px 1px 3px 1px rgba(60, 64, 67, 0.15);\n",
              "      fill: #174EA6;\n",
              "    }\n",
              "\n",
              "    [theme=dark] .colab-df-convert {\n",
              "      background-color: #3B4455;\n",
              "      fill: #D2E3FC;\n",
              "    }\n",
              "\n",
              "    [theme=dark] .colab-df-convert:hover {\n",
              "      background-color: #434B5C;\n",
              "      box-shadow: 0px 1px 3px 1px rgba(0, 0, 0, 0.15);\n",
              "      filter: drop-shadow(0px 1px 2px rgba(0, 0, 0, 0.3));\n",
              "      fill: #FFFFFF;\n",
              "    }\n",
              "  </style>\n",
              "\n",
              "      <script>\n",
              "        const buttonEl =\n",
              "          document.querySelector('#df-77219e50-d305-4004-88a4-6b5df4f05934 button.colab-df-convert');\n",
              "        buttonEl.style.display =\n",
              "          google.colab.kernel.accessAllowed ? 'block' : 'none';\n",
              "\n",
              "        async function convertToInteractive(key) {\n",
              "          const element = document.querySelector('#df-77219e50-d305-4004-88a4-6b5df4f05934');\n",
              "          const dataTable =\n",
              "            await google.colab.kernel.invokeFunction('convertToInteractive',\n",
              "                                                     [key], {});\n",
              "          if (!dataTable) return;\n",
              "\n",
              "          const docLinkHtml = 'Like what you see? Visit the ' +\n",
              "            '<a target=\"_blank\" href=https://colab.research.google.com/notebooks/data_table.ipynb>data table notebook</a>'\n",
              "            + ' to learn more about interactive tables.';\n",
              "          element.innerHTML = '';\n",
              "          dataTable['output_type'] = 'display_data';\n",
              "          await google.colab.output.renderOutput(dataTable, element);\n",
              "          const docLink = document.createElement('div');\n",
              "          docLink.innerHTML = docLinkHtml;\n",
              "          element.appendChild(docLink);\n",
              "        }\n",
              "      </script>\n",
              "    </div>\n",
              "  </div>\n",
              "  "
            ]
          },
          "metadata": {},
          "execution_count": 6
        }
      ]
    },
    {
      "cell_type": "code",
      "source": [
        "df.info()"
      ],
      "metadata": {
        "colab": {
          "base_uri": "https://localhost:8080/"
        },
        "id": "kf8VV0omr9Jj",
        "outputId": "83b21ca8-9e9d-44a1-f5cd-acbd3a543652"
      },
      "execution_count": 7,
      "outputs": [
        {
          "output_type": "stream",
          "name": "stdout",
          "text": [
            "<class 'pandas.core.frame.DataFrame'>\n",
            "RangeIndex: 11 entries, 0 to 10\n",
            "Data columns (total 3 columns):\n",
            " #   Column       Non-Null Count  Dtype \n",
            "---  ------       --------------  ----- \n",
            " 0   Name         11 non-null     object\n",
            " 1   Address      11 non-null     object\n",
            " 2   Description  11 non-null     object\n",
            "dtypes: object(3)\n",
            "memory usage: 392.0+ bytes\n"
          ]
        }
      ]
    },
    {
      "cell_type": "code",
      "source": [
        "def print_description(index):\n",
        "    example = df[df.index == index][['Description', 'Name','Address']].values[0]\n",
        "    if len(example) > 0:\n",
        "        print(example[0])\n",
        "        print('Name:', example[1])\n",
        "        print('Address:', example[2])"
      ],
      "metadata": {
        "id": "VWVvRSRcsAzf"
      },
      "execution_count": 8,
      "outputs": []
    },
    {
      "cell_type": "code",
      "source": [
        "print_description(1)"
      ],
      "metadata": {
        "colab": {
          "base_uri": "https://localhost:8080/"
        },
        "id": "ItpjQ_VEsA99",
        "outputId": "c8bbda6f-20f8-4dd1-e650-fb1f5f97f021"
      },
      "execution_count": 9,
      "outputs": [
        {
          "output_type": "stream",
          "name": "stdout",
          "text": [
            "Akademi Digital Marketing. CRM. Web Design untuk Digital Marketing. Content Marketing. Social Media Marketing. Strategi Digital Marketing. SEO dan Web Analystics. Graphics Design untuk Digital Marketing. Pengantar Digital Marketing.\n",
            "Name: PT Nurul Fikri Cipta Inovasi \n",
            "Address: Jl. Situ Indah No.116 RT. 006 RW. 010 Kel. Tugu,  Kec. Cimanggis, Kota Depok, Jawa Barat\n"
          ]
        }
      ]
    },
    {
      "cell_type": "code",
      "source": [
        "print_description(3)"
      ],
      "metadata": {
        "colab": {
          "base_uri": "https://localhost:8080/"
        },
        "id": "jx8NFSNLsu2t",
        "outputId": "79247c82-b315-4974-9ed6-b92eba577cd1"
      },
      "execution_count": 10,
      "outputs": [
        {
          "output_type": "stream",
          "name": "stdout",
          "text": [
            "Frontend Engineering. Final Project. Programming JavaScript. Software Engineering Frontend Web Development With HTML & CSS. Interacting With Web APIs. Intro To Node.js.\n",
            "Name: PT Ruang Raya Indonesia\n",
            "Address: Jl. Dr. Saharjo No.161, Manggarai Selatan, Tebet, Kota Jakarta Selatan, Daerah Khusus Ibukota Jakarta 12860\n"
          ]
        }
      ]
    },
    {
      "cell_type": "code",
      "source": [
        "print_description(5)"
      ],
      "metadata": {
        "colab": {
          "base_uri": "https://localhost:8080/"
        },
        "id": "NH6uXXyxszWq",
        "outputId": "def76d10-1533-43d2-bf8c-6dc3a4dcabe4"
      },
      "execution_count": 11,
      "outputs": [
        {
          "output_type": "stream",
          "name": "stdout",
          "text": [
            "Pengembang Aplikasi Android. Pengenalan Logika Pemrograman. Belajar Dasar Github. Pemrograman Kotlin. Fundamental aplikasi Android. Pengembangan Aplikasi Android Intermediate. Prinsip Pemrograman SOLID. Dasar UX Design. \n",
            "Name: PT Dicoding Akademi Indonesia \n",
            "Address: Jalan Batik Kumeli No 50, Kecamatan : Cibeunying Kaler, Kelurahan : Sukaluyu, RT : 10, RW : 07, Kota Bandung, Jawa Barat, 40123\n"
          ]
        }
      ]
    },
    {
      "cell_type": "code",
      "source": [
        "import nltk\n",
        "nltk.download('stopwords')\n",
        "clean_spcl = re.compile('[/(){}\\[\\]\\|@,;]')\n",
        "clean_symbol = re.compile('[^0-9a-z #+_]')\n",
        "stopworda = set(stopwords.words('english'))\n",
        "\n",
        "def clean_text(text):\n",
        "    \"\"\"\n",
        "        text: a string\n",
        "        \n",
        "        return: modified initial string\n",
        "    \"\"\"\n",
        "    text = text.lower() # lowercase text\n",
        "    text = clean_spcl.sub(' ', text)\n",
        "    text = clean_symbol.sub('', text)\n",
        "    #text = ' '.join(word for word in text.split() if word not in stopworda) # hapus stopword dari kolom deskripsi\n",
        "    return text\n",
        "    \n",
        "df['desc_clean'] = df['Description'].apply(clean_text)"
      ],
      "metadata": {
        "colab": {
          "base_uri": "https://localhost:8080/"
        },
        "id": "rhftLBpMs4df",
        "outputId": "d90d5851-5364-45db-da8e-ed54dab08d9f"
      },
      "execution_count": 12,
      "outputs": [
        {
          "output_type": "stream",
          "name": "stderr",
          "text": [
            "[nltk_data] Downloading package stopwords to /root/nltk_data...\n",
            "[nltk_data]   Unzipping corpora/stopwords.zip.\n"
          ]
        }
      ]
    },
    {
      "cell_type": "code",
      "source": [
        "df.head()"
      ],
      "metadata": {
        "colab": {
          "base_uri": "https://localhost:8080/",
          "height": 337
        },
        "id": "Z0e-w_xus4mV",
        "outputId": "0e06cdcf-58ee-4c37-ca28-8639ccc8fa86"
      },
      "execution_count": 13,
      "outputs": [
        {
          "output_type": "execute_result",
          "data": {
            "text/plain": [
              "                                 Name  \\\n",
              "0           Rafli Nur Fadhillah Panca   \n",
              "1       PT Nurul Fikri Cipta Inovasi    \n",
              "2  PT Hacktivate Teknologi Indonesia    \n",
              "3             PT Ruang Raya Indonesia   \n",
              "4           PT Mitra Semeru Indonesia   \n",
              "\n",
              "                                             Address  \\\n",
              "0            Gisik Sari RT4 RW 4 Semarang, Indonesia   \n",
              "1  Jl. Situ Indah No.116 RT. 006 RW. 010 Kel. Tug...   \n",
              "2  Gedung Aquarius Lt. 1&2, Jl. Sultan Iskandar M...   \n",
              "3  Jl. Dr. Saharjo No.161, Manggarai Selatan, Teb...   \n",
              "4  Jl. Mampang Prapatan Raya no 84A, Tegal Parang...   \n",
              "\n",
              "                                         Description  \\\n",
              "0  Algoritma dan pemrograman, bahasa pemrograman,...   \n",
              "1  Akademi Digital Marketing. CRM. Web Design unt...   \n",
              "2  Android Java for Mobile Developer. User Interf...   \n",
              "3  Frontend Engineering. Final Project. Programmi...   \n",
              "4  Perancangan Produk/Jasa. Komunikasi. Leadershi...   \n",
              "\n",
              "                                          desc_clean  \n",
              "0  algoritma dan pemrograman  bahasa pemrograman ...  \n",
              "1  akademi digital marketing crm web design untuk...  \n",
              "2  android java for mobile developer user interfa...  \n",
              "3  frontend engineering final project programming...  \n",
              "4  perancangan produk jasa komunikasi leadership ...  "
            ],
            "text/html": [
              "\n",
              "  <div id=\"df-57a8322b-b1ff-49b9-82d3-d455b5651f53\">\n",
              "    <div class=\"colab-df-container\">\n",
              "      <div>\n",
              "<style scoped>\n",
              "    .dataframe tbody tr th:only-of-type {\n",
              "        vertical-align: middle;\n",
              "    }\n",
              "\n",
              "    .dataframe tbody tr th {\n",
              "        vertical-align: top;\n",
              "    }\n",
              "\n",
              "    .dataframe thead th {\n",
              "        text-align: right;\n",
              "    }\n",
              "</style>\n",
              "<table border=\"1\" class=\"dataframe\">\n",
              "  <thead>\n",
              "    <tr style=\"text-align: right;\">\n",
              "      <th></th>\n",
              "      <th>Name</th>\n",
              "      <th>Address</th>\n",
              "      <th>Description</th>\n",
              "      <th>desc_clean</th>\n",
              "    </tr>\n",
              "  </thead>\n",
              "  <tbody>\n",
              "    <tr>\n",
              "      <th>0</th>\n",
              "      <td>Rafli Nur Fadhillah Panca</td>\n",
              "      <td>Gisik Sari RT4 RW 4 Semarang, Indonesia</td>\n",
              "      <td>Algoritma dan pemrograman, bahasa pemrograman,...</td>\n",
              "      <td>algoritma dan pemrograman  bahasa pemrograman ...</td>\n",
              "    </tr>\n",
              "    <tr>\n",
              "      <th>1</th>\n",
              "      <td>PT Nurul Fikri Cipta Inovasi</td>\n",
              "      <td>Jl. Situ Indah No.116 RT. 006 RW. 010 Kel. Tug...</td>\n",
              "      <td>Akademi Digital Marketing. CRM. Web Design unt...</td>\n",
              "      <td>akademi digital marketing crm web design untuk...</td>\n",
              "    </tr>\n",
              "    <tr>\n",
              "      <th>2</th>\n",
              "      <td>PT Hacktivate Teknologi Indonesia</td>\n",
              "      <td>Gedung Aquarius Lt. 1&amp;2, Jl. Sultan Iskandar M...</td>\n",
              "      <td>Android Java for Mobile Developer. User Interf...</td>\n",
              "      <td>android java for mobile developer user interfa...</td>\n",
              "    </tr>\n",
              "    <tr>\n",
              "      <th>3</th>\n",
              "      <td>PT Ruang Raya Indonesia</td>\n",
              "      <td>Jl. Dr. Saharjo No.161, Manggarai Selatan, Teb...</td>\n",
              "      <td>Frontend Engineering. Final Project. Programmi...</td>\n",
              "      <td>frontend engineering final project programming...</td>\n",
              "    </tr>\n",
              "    <tr>\n",
              "      <th>4</th>\n",
              "      <td>PT Mitra Semeru Indonesia</td>\n",
              "      <td>Jl. Mampang Prapatan Raya no 84A, Tegal Parang...</td>\n",
              "      <td>Perancangan Produk/Jasa. Komunikasi. Leadershi...</td>\n",
              "      <td>perancangan produk jasa komunikasi leadership ...</td>\n",
              "    </tr>\n",
              "  </tbody>\n",
              "</table>\n",
              "</div>\n",
              "      <button class=\"colab-df-convert\" onclick=\"convertToInteractive('df-57a8322b-b1ff-49b9-82d3-d455b5651f53')\"\n",
              "              title=\"Convert this dataframe to an interactive table.\"\n",
              "              style=\"display:none;\">\n",
              "        \n",
              "  <svg xmlns=\"http://www.w3.org/2000/svg\" height=\"24px\"viewBox=\"0 0 24 24\"\n",
              "       width=\"24px\">\n",
              "    <path d=\"M0 0h24v24H0V0z\" fill=\"none\"/>\n",
              "    <path d=\"M18.56 5.44l.94 2.06.94-2.06 2.06-.94-2.06-.94-.94-2.06-.94 2.06-2.06.94zm-11 1L8.5 8.5l.94-2.06 2.06-.94-2.06-.94L8.5 2.5l-.94 2.06-2.06.94zm10 10l.94 2.06.94-2.06 2.06-.94-2.06-.94-.94-2.06-.94 2.06-2.06.94z\"/><path d=\"M17.41 7.96l-1.37-1.37c-.4-.4-.92-.59-1.43-.59-.52 0-1.04.2-1.43.59L10.3 9.45l-7.72 7.72c-.78.78-.78 2.05 0 2.83L4 21.41c.39.39.9.59 1.41.59.51 0 1.02-.2 1.41-.59l7.78-7.78 2.81-2.81c.8-.78.8-2.07 0-2.86zM5.41 20L4 18.59l7.72-7.72 1.47 1.35L5.41 20z\"/>\n",
              "  </svg>\n",
              "      </button>\n",
              "      \n",
              "  <style>\n",
              "    .colab-df-container {\n",
              "      display:flex;\n",
              "      flex-wrap:wrap;\n",
              "      gap: 12px;\n",
              "    }\n",
              "\n",
              "    .colab-df-convert {\n",
              "      background-color: #E8F0FE;\n",
              "      border: none;\n",
              "      border-radius: 50%;\n",
              "      cursor: pointer;\n",
              "      display: none;\n",
              "      fill: #1967D2;\n",
              "      height: 32px;\n",
              "      padding: 0 0 0 0;\n",
              "      width: 32px;\n",
              "    }\n",
              "\n",
              "    .colab-df-convert:hover {\n",
              "      background-color: #E2EBFA;\n",
              "      box-shadow: 0px 1px 2px rgba(60, 64, 67, 0.3), 0px 1px 3px 1px rgba(60, 64, 67, 0.15);\n",
              "      fill: #174EA6;\n",
              "    }\n",
              "\n",
              "    [theme=dark] .colab-df-convert {\n",
              "      background-color: #3B4455;\n",
              "      fill: #D2E3FC;\n",
              "    }\n",
              "\n",
              "    [theme=dark] .colab-df-convert:hover {\n",
              "      background-color: #434B5C;\n",
              "      box-shadow: 0px 1px 3px 1px rgba(0, 0, 0, 0.15);\n",
              "      filter: drop-shadow(0px 1px 2px rgba(0, 0, 0, 0.3));\n",
              "      fill: #FFFFFF;\n",
              "    }\n",
              "  </style>\n",
              "\n",
              "      <script>\n",
              "        const buttonEl =\n",
              "          document.querySelector('#df-57a8322b-b1ff-49b9-82d3-d455b5651f53 button.colab-df-convert');\n",
              "        buttonEl.style.display =\n",
              "          google.colab.kernel.accessAllowed ? 'block' : 'none';\n",
              "\n",
              "        async function convertToInteractive(key) {\n",
              "          const element = document.querySelector('#df-57a8322b-b1ff-49b9-82d3-d455b5651f53');\n",
              "          const dataTable =\n",
              "            await google.colab.kernel.invokeFunction('convertToInteractive',\n",
              "                                                     [key], {});\n",
              "          if (!dataTable) return;\n",
              "\n",
              "          const docLinkHtml = 'Like what you see? Visit the ' +\n",
              "            '<a target=\"_blank\" href=https://colab.research.google.com/notebooks/data_table.ipynb>data table notebook</a>'\n",
              "            + ' to learn more about interactive tables.';\n",
              "          element.innerHTML = '';\n",
              "          dataTable['output_type'] = 'display_data';\n",
              "          await google.colab.output.renderOutput(dataTable, element);\n",
              "          const docLink = document.createElement('div');\n",
              "          docLink.innerHTML = docLinkHtml;\n",
              "          element.appendChild(docLink);\n",
              "        }\n",
              "      </script>\n",
              "    </div>\n",
              "  </div>\n",
              "  "
            ]
          },
          "metadata": {},
          "execution_count": 13
        }
      ]
    },
    {
      "cell_type": "code",
      "source": [
        "def print_description_clean(index):\n",
        "    example = df[df.index == index][['desc_clean', 'Name','Address']].values[0]\n",
        "    if len(example) > 0:\n",
        "        print(example[0])\n",
        "        print('Nama Perusahaan:', example[1])\n",
        "        print('Alamat:', example[2])"
      ],
      "metadata": {
        "id": "qzvf8WZvs4oC"
      },
      "execution_count": 14,
      "outputs": []
    },
    {
      "cell_type": "code",
      "source": [
        "print_description_clean(1)"
      ],
      "metadata": {
        "colab": {
          "base_uri": "https://localhost:8080/"
        },
        "id": "NyIMuGDJtBe-",
        "outputId": "57d1df0d-2da4-42d9-aee6-7a41020ace06"
      },
      "execution_count": 15,
      "outputs": [
        {
          "output_type": "stream",
          "name": "stdout",
          "text": [
            "akademi digital marketing crm web design untuk digital marketing content marketing social media marketing strategi digital marketing seo dan web analystics graphics design untuk digital marketing pengantar digital marketing\n",
            "Nama Perusahaan: PT Nurul Fikri Cipta Inovasi \n",
            "Alamat: Jl. Situ Indah No.116 RT. 006 RW. 010 Kel. Tugu,  Kec. Cimanggis, Kota Depok, Jawa Barat\n"
          ]
        }
      ]
    },
    {
      "cell_type": "code",
      "source": [
        "print_description_clean(3)"
      ],
      "metadata": {
        "colab": {
          "base_uri": "https://localhost:8080/"
        },
        "id": "Np6weNr3tBhU",
        "outputId": "86eb05e9-0185-48d4-95ef-a70e3ce34e05"
      },
      "execution_count": 16,
      "outputs": [
        {
          "output_type": "stream",
          "name": "stdout",
          "text": [
            "frontend engineering final project programming javascript software engineering frontend web development with html  css interacting with web apis intro to nodejs\n",
            "Nama Perusahaan: PT Ruang Raya Indonesia\n",
            "Alamat: Jl. Dr. Saharjo No.161, Manggarai Selatan, Tebet, Kota Jakarta Selatan, Daerah Khusus Ibukota Jakarta 12860\n"
          ]
        }
      ]
    },
    {
      "cell_type": "code",
      "source": [
        "print_description_clean(5)"
      ],
      "metadata": {
        "colab": {
          "base_uri": "https://localhost:8080/"
        },
        "id": "GURW1K1DtBjO",
        "outputId": "1b49b0bb-29f2-48b7-cd39-fd5ba827f67f"
      },
      "execution_count": 17,
      "outputs": [
        {
          "output_type": "stream",
          "name": "stdout",
          "text": [
            "pengembang aplikasi android pengenalan logika pemrograman belajar dasar github pemrograman kotlin fundamental aplikasi android pengembangan aplikasi android intermediate prinsip pemrograman solid dasar ux design \n",
            "Nama Perusahaan: PT Dicoding Akademi Indonesia \n",
            "Alamat: Jalan Batik Kumeli No 50, Kecamatan : Cibeunying Kaler, Kelurahan : Sukaluyu, RT : 10, RW : 07, Kota Bandung, Jawa Barat, 40123\n"
          ]
        }
      ]
    },
    {
      "cell_type": "code",
      "source": [
        "df.set_index('Name', inplace=True)\n",
        "tf = TfidfVectorizer(analyzer='word', ngram_range=(1, 3), min_df=0, stop_words='english')\n",
        "tfidf_matrix = tf.fit_transform(df['desc_clean'])\n",
        "cos_sim = cosine_similarity(tfidf_matrix, tfidf_matrix)\n",
        "cos_sim"
      ],
      "metadata": {
        "colab": {
          "base_uri": "https://localhost:8080/"
        },
        "id": "iLjT_Ar7tGSv",
        "outputId": "dcf2b1cf-2238-4eba-c04c-9601fed25d70"
      },
      "execution_count": 18,
      "outputs": [
        {
          "output_type": "execute_result",
          "data": {
            "text/plain": [
              "array([[1.        , 0.04070524, 0.0108891 , 0.02960136, 0.02881204,\n",
              "        0.11906387, 0.01620249, 0.        , 0.        , 0.05972098,\n",
              "        0.05639714],\n",
              "       [0.04070524, 1.        , 0.        , 0.02384393, 0.05921582,\n",
              "        0.00762089, 0.        , 0.03742761, 0.01303843, 0.        ,\n",
              "        0.00499699],\n",
              "       [0.0108891 , 0.        , 1.        , 0.01139597, 0.        ,\n",
              "        0.05472744, 0.        , 0.        , 0.        , 0.        ,\n",
              "        0.00955305],\n",
              "       [0.02960136, 0.02384393, 0.01139597, 1.        , 0.        ,\n",
              "        0.        , 0.01096213, 0.        , 0.        , 0.        ,\n",
              "        0.        ],\n",
              "       [0.02881204, 0.05921582, 0.        , 0.        , 1.        ,\n",
              "        0.        , 0.        , 0.        , 0.        , 0.        ,\n",
              "        0.        ],\n",
              "       [0.11906387, 0.00762089, 0.05472744, 0.        , 0.        ,\n",
              "        1.        , 0.03509599, 0.0061228 , 0.0090392 , 0.02308856,\n",
              "        0.        ],\n",
              "       [0.01620249, 0.        , 0.        , 0.01096213, 0.        ,\n",
              "        0.03509599, 1.        , 0.01016804, 0.01501126, 0.03389151,\n",
              "        0.        ],\n",
              "       [0.        , 0.03742761, 0.        , 0.        , 0.        ,\n",
              "        0.0061228 , 0.01016804, 1.        , 0.01047538, 0.01153185,\n",
              "        0.        ],\n",
              "       [0.        , 0.01303843, 0.        , 0.        , 0.        ,\n",
              "        0.0090392 , 0.01501126, 0.01047538, 1.        , 0.        ,\n",
              "        0.        ],\n",
              "       [0.05972098, 0.        , 0.        , 0.        , 0.        ,\n",
              "        0.02308856, 0.03389151, 0.01153185, 0.        , 1.        ,\n",
              "        0.        ],\n",
              "       [0.05639714, 0.00499699, 0.00955305, 0.        , 0.        ,\n",
              "        0.        , 0.        , 0.        , 0.        , 0.        ,\n",
              "        1.        ]])"
            ]
          },
          "metadata": {},
          "execution_count": 18
        }
      ]
    },
    {
      "cell_type": "code",
      "source": [
        "indices = pd.Series(df.index)\n",
        "indices[:50]"
      ],
      "metadata": {
        "colab": {
          "base_uri": "https://localhost:8080/"
        },
        "id": "KlHhv678tGU8",
        "outputId": "24fc7831-11b0-477c-f663-421cfa00aa98"
      },
      "execution_count": 19,
      "outputs": [
        {
          "output_type": "execute_result",
          "data": {
            "text/plain": [
              "0                 Rafli Nur Fadhillah Panca\n",
              "1             PT Nurul Fikri Cipta Inovasi \n",
              "2        PT Hacktivate Teknologi Indonesia \n",
              "3                   PT Ruang Raya Indonesia\n",
              "4                 PT Mitra Semeru Indonesia\n",
              "5            PT Dicoding Akademi Indonesia \n",
              "6     PT. IlmuKomputerCom Braindevs Sistema\n",
              "7         PT Telkom Indonesia (Persero) Tbk\n",
              "8                   PT Global Tiket Network\n",
              "9                             PT Berau Coal\n",
              "10                     PT Pundi Mas Berjaya\n",
              "Name: Name, dtype: object"
            ]
          },
          "metadata": {},
          "execution_count": 19
        }
      ]
    },
    {
      "cell_type": "code",
      "source": [
        "def recommendations(name, cos_sim = cos_sim):\n",
        "    \n",
        "    recommended_modul = []\n",
        "    \n",
        "    # Mengambil nama modul berdasarkan variabel indicies\n",
        "    idx = indices[indices == name].index[0]\n",
        "\n",
        "    # Membuat series berdasarkan skor kesamaan\n",
        "    score_series = pd.Series(cos_sim[idx]).sort_values(ascending = False)\n",
        "\n",
        "    # mengambil index dan dibuat 3 baris rekomendasi terbaik\n",
        "    top_10_indexes = list(score_series.iloc[1:4].index)\n",
        "    \n",
        "    for i in top_10_indexes:\n",
        "        recommended_modul.append(list(df.index)[i])\n",
        "        \n",
        "    return recommended_modul"
      ],
      "metadata": {
        "id": "IytYqJJ_tGh9"
      },
      "execution_count": 20,
      "outputs": []
    },
    {
      "cell_type": "code",
      "source": [
        "recommendations('Rafli Nur Fadhillah Panca')"
      ],
      "metadata": {
        "colab": {
          "base_uri": "https://localhost:8080/"
        },
        "id": "Qhz14IvAtNm6",
        "outputId": "50a81c55-7847-4ad2-c4d5-b581d952a9d5"
      },
      "execution_count": 21,
      "outputs": [
        {
          "output_type": "execute_result",
          "data": {
            "text/plain": [
              "['PT Dicoding Akademi Indonesia ', 'PT Berau Coal', 'PT Pundi Mas Berjaya']"
            ]
          },
          "metadata": {},
          "execution_count": 21
        }
      ]
    },
    {
      "cell_type": "code",
      "source": [
        "recommendations('PT Mitra Semeru Indonesia')"
      ],
      "metadata": {
        "colab": {
          "base_uri": "https://localhost:8080/"
        },
        "id": "UVSNHSJ9tNpC",
        "outputId": "e39bdcca-0d0b-4776-b6c1-844933e83d7f"
      },
      "execution_count": 22,
      "outputs": [
        {
          "output_type": "execute_result",
          "data": {
            "text/plain": [
              "['PT Nurul Fikri Cipta Inovasi ',\n",
              " 'Rafli Nur Fadhillah Panca',\n",
              " 'PT Hacktivate Teknologi Indonesia ']"
            ]
          },
          "metadata": {},
          "execution_count": 22
        }
      ]
    },
    {
      "cell_type": "code",
      "source": [
        "recommendations('PT Global Tiket Network')"
      ],
      "metadata": {
        "colab": {
          "base_uri": "https://localhost:8080/"
        },
        "id": "oqb-ZVz4t0AH",
        "outputId": "1afea509-eb41-46b1-ac70-5d2e080d1723"
      },
      "execution_count": 25,
      "outputs": [
        {
          "output_type": "execute_result",
          "data": {
            "text/plain": [
              "['PT. IlmuKomputerCom Braindevs Sistema',\n",
              " 'PT Nurul Fikri Cipta Inovasi ',\n",
              " 'PT Telkom Indonesia (Persero) Tbk']"
            ]
          },
          "metadata": {},
          "execution_count": 25
        }
      ]
    }
  ]
}